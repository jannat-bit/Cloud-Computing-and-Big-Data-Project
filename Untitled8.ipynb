{
  "nbformat": 4,
  "nbformat_minor": 0,
  "metadata": {
    "colab": {
      "provenance": []
    },
    "kernelspec": {
      "name": "python3",
      "display_name": "Python 3"
    },
    "language_info": {
      "name": "python"
    }
  },
  "cells": [
    {
      "cell_type": "markdown",
      "source": [
        "**HAND WRIITEN DIGIT PREDICTION**"
      ],
      "metadata": {
        "id": "ACfzgFE_LaO5"
      }
    },
    {
      "cell_type": "markdown",
      "source": [
        "The digits dataset consists of 8×8 pixel images of digits. The images attribute of the dataset stores 8x8 arrays of grayscale values for each image. We will use these arrays to visualize the first 4 images. The target attribute of the dataset stores the digit each image represents"
      ],
      "metadata": {
        "id": "IQO1ArDNMX5-"
      }
    },
    {
      "cell_type": "markdown",
      "source": [
        "**IMPORT LIBRARY**"
      ],
      "metadata": {
        "id": "ZcIfpoNBMamH"
      }
    },
    {
      "cell_type": "code",
      "source": [
        "import pandas as pd"
      ],
      "metadata": {
        "id": "XEsLlLBvMgwX"
      },
      "execution_count": null,
      "outputs": []
    },
    {
      "cell_type": "code",
      "source": [
        "import numpy as np"
      ],
      "metadata": {
        "id": "9ib9B7jTMmM9"
      },
      "execution_count": null,
      "outputs": []
    },
    {
      "cell_type": "code",
      "source": [
        "import matplotlib.pyplot as plt"
      ],
      "metadata": {
        "id": "SEL3h8GwMpTe"
      },
      "execution_count": null,
      "outputs": []
    },
    {
      "cell_type": "markdown",
      "source": [
        "**IMPORT DATA**"
      ],
      "metadata": {
        "id": "KxUAiQQlMzsm"
      }
    },
    {
      "cell_type": "code",
      "source": [
        "from sklearn.datasets import load_digits"
      ],
      "metadata": {
        "id": "IyVvGBeIM_BA"
      },
      "execution_count": null,
      "outputs": []
    },
    {
      "cell_type": "code",
      "source": [
        "df= load_digits()"
      ],
      "metadata": {
        "id": "Hqn_yy_tNEcU"
      },
      "execution_count": null,
      "outputs": []
    },
    {
      "cell_type": "code",
      "source": [
        "_, axes= plt.subplots(nrows=1,ncols=4,figsize=(10,3))\n",
        "for ax,image,label in zip(axes,df.images,df.target):\n",
        "  ax.set_axis_off()\n",
        "  ax.imshow(image,cmap=plt.cm.gray_r,interpolation=\"nearest\")\n",
        "  ax.set_title(\"Training:%i\"%label)"
      ],
      "metadata": {
        "colab": {
          "base_uri": "https://localhost:8080/",
          "height": 227
        },
        "id": "82R0mCA2NHO2",
        "outputId": "02cfe798-5fdf-4d58-b6ca-72dcfee9d71d"
      },
      "execution_count": null,
      "outputs": [
        {
          "output_type": "display_data",
          "data": {
            "text/plain": [
              "<Figure size 1000x300 with 4 Axes>"
            ],
            "image/png": "[encoded data removed]"
          },
          "metadata": {}
        }
      ]
    },
    {
      "cell_type": "markdown",
      "source": [
        "**DATA PROCESSING**"
      ],
      "metadata": {
        "id": "U4wmixKyOVbl"
      }
    },
    {
      "cell_type": "markdown",
      "source": [
        "Flatten image"
      ],
      "metadata": {
        "id": "wSd28xaLOZJf"
      }
    },
    {
      "cell_type": "code",
      "source": [
        "df.images.shape"
      ],
      "metadata": {
        "colab": {
          "base_uri": "https://localhost:8080/"
        },
        "id": "2jJ4icxoOjxb",
        "outputId": "6a32e793-3395-4deb-8dd7-35bf22bfb649"
      },
      "execution_count": null,
      "outputs": [
        {
          "output_type": "execute_result",
          "data": {
            "text/plain": [
              "(1797, 8, 8)"
            ]
          },
          "metadata": {},
          "execution_count": 11
        }
      ]
    },
    {
      "cell_type": "code",
      "source": [
        "df.images[0]"
      ],
      "metadata": {
        "colab": {
          "base_uri": "https://localhost:8080/"
        },
        "id": "41Ocvrl3Omrr",
        "outputId": "940069f9-6ddf-459e-95d4-978ad16d65fe"
      },
      "execution_count": null,
      "outputs": [
        {
          "output_type": "execute_result",
          "data": {
            "text/plain": [
              "array([[ 0.,  0.,  5., 13.,  9.,  1.,  0.,  0.],\n",
              "       [ 0.,  0., 13., 15., 10., 15.,  5.,  0.],\n",
              "       [ 0.,  3., 15.,  2.,  0., 11.,  8.,  0.],\n",
              "       [ 0.,  4., 12.,  0.,  0.,  8.,  8.,  0.],\n",
              "       [ 0.,  5.,  8.,  0.,  0.,  9.,  8.,  0.],\n",
              "       [ 0.,  4., 11.,  0.,  1., 12.,  7.,  0.],\n",
              "       [ 0.,  2., 14.,  5., 10., 12.,  0.,  0.],\n",
              "       [ 0.,  0.,  6., 13., 10.,  0.,  0.,  0.]])"
            ]
          },
          "metadata": {},
          "execution_count": 12
        }
      ]
    },
    {
      "cell_type": "code",
      "source": [
        "df.images[0].shape"
      ],
      "metadata": {
        "colab": {
          "base_uri": "https://localhost:8080/"
        },
        "id": "iZpvVpRXOp4m",
        "outputId": "d9849e0a-c20c-4077-d8a0-79a3d313e8ba"
      },
      "execution_count": null,
      "outputs": [
        {
          "output_type": "execute_result",
          "data": {
            "text/plain": [
              "(8, 8)"
            ]
          },
          "metadata": {},
          "execution_count": 13
        }
      ]
    },
    {
      "cell_type": "code",
      "source": [
        "len(df.images)"
      ],
      "metadata": {
        "colab": {
          "base_uri": "https://localhost:8080/"
        },
        "id": "8k6FT2zXOu3v",
        "outputId": "efa19640-6537-4100-8362-1c78011a0a00"
      },
      "execution_count": null,
      "outputs": [
        {
          "output_type": "execute_result",
          "data": {
            "text/plain": [
              "1797"
            ]
          },
          "metadata": {},
          "execution_count": 14
        }
      ]
    },
    {
      "cell_type": "code",
      "source": [
        "n_samples= len(df.images)\n",
        "data=df.images.reshape((n_samples,-1))"
      ],
      "metadata": {
        "id": "HE-xkirsOyVV"
      },
      "execution_count": null,
      "outputs": []
    },
    {
      "cell_type": "code",
      "source": [
        "data[0]"
      ],
      "metadata": {
        "colab": {
          "base_uri": "https://localhost:8080/"
        },
        "id": "R4TGwP17O-Wd",
        "outputId": "2fb8eaa3-ce85-43cc-fc97-a5899880896a"
      },
      "execution_count": null,
      "outputs": [
        {
          "output_type": "execute_result",
          "data": {
            "text/plain": [
              "array([ 0.,  0.,  5., 13.,  9.,  1.,  0.,  0.,  0.,  0., 13., 15., 10.,\n",
              "       15.,  5.,  0.,  0.,  3., 15.,  2.,  0., 11.,  8.,  0.,  0.,  4.,\n",
              "       12.,  0.,  0.,  8.,  8.,  0.,  0.,  5.,  8.,  0.,  0.,  9.,  8.,\n",
              "        0.,  0.,  4., 11.,  0.,  1., 12.,  7.,  0.,  0.,  2., 14.,  5.,\n",
              "       10., 12.,  0.,  0.,  0.,  0.,  6., 13., 10.,  0.,  0.,  0.])"
            ]
          },
          "metadata": {},
          "execution_count": 16
        }
      ]
    },
    {
      "cell_type": "code",
      "source": [
        "data[0]"
      ],
      "metadata": {
        "colab": {
          "base_uri": "https://localhost:8080/"
        },
        "id": "KbH7Vh6RO_g5",
        "outputId": "0d859300-0ea5-4eb8-9dd3-c90f1b154c7c"
      },
      "execution_count": null,
      "outputs": [
        {
          "output_type": "execute_result",
          "data": {
            "text/plain": [
              "array([ 0.,  0.,  5., 13.,  9.,  1.,  0.,  0.,  0.,  0., 13., 15., 10.,\n",
              "       15.,  5.,  0.,  0.,  3., 15.,  2.,  0., 11.,  8.,  0.,  0.,  4.,\n",
              "       12.,  0.,  0.,  8.,  8.,  0.,  0.,  5.,  8.,  0.,  0.,  9.,  8.,\n",
              "        0.,  0.,  4., 11.,  0.,  1., 12.,  7.,  0.,  0.,  2., 14.,  5.,\n",
              "       10., 12.,  0.,  0.,  0.,  0.,  6., 13., 10.,  0.,  0.,  0.])"
            ]
          },
          "metadata": {},
          "execution_count": 17
        }
      ]
    },
    {
      "cell_type": "code",
      "source": [
        "data[0].shape"
      ],
      "metadata": {
        "colab": {
          "base_uri": "https://localhost:8080/"
        },
        "id": "KMsXyxMgPCoi",
        "outputId": "3b59019b-cf7e-486a-8a06-9ffd233b4b60"
      },
      "execution_count": null,
      "outputs": [
        {
          "output_type": "execute_result",
          "data": {
            "text/plain": [
              "(64,)"
            ]
          },
          "metadata": {},
          "execution_count": 18
        }
      ]
    },
    {
      "cell_type": "code",
      "source": [
        "data.shape"
      ],
      "metadata": {
        "colab": {
          "base_uri": "https://localhost:8080/"
        },
        "id": "xTptQN2yPIa2",
        "outputId": "53a23a8c-939a-4ae9-8aea-d84f8d3f75c4"
      },
      "execution_count": null,
      "outputs": [
        {
          "output_type": "execute_result",
          "data": {
            "text/plain": [
              "(1797, 64)"
            ]
          },
          "metadata": {},
          "execution_count": 19
        }
      ]
    },
    {
      "cell_type": "markdown",
      "source": [
        "**SCALING IMAGE DATA**"
      ],
      "metadata": {
        "id": "_OkJrDRwPLYa"
      }
    },
    {
      "cell_type": "code",
      "source": [
        "data.min()"
      ],
      "metadata": {
        "colab": {
          "base_uri": "https://localhost:8080/"
        },
        "id": "UahZqBlJPTSI",
        "outputId": "f8c6ddd0-7808-435a-c894-3e3978f3caef"
      },
      "execution_count": null,
      "outputs": [
        {
          "output_type": "execute_result",
          "data": {
            "text/plain": [
              "0.0"
            ]
          },
          "metadata": {},
          "execution_count": 20
        }
      ]
    },
    {
      "cell_type": "code",
      "source": [
        "data.max()"
      ],
      "metadata": {
        "colab": {
          "base_uri": "https://localhost:8080/"
        },
        "id": "slBgasg-PVjL",
        "outputId": "37ca11f3-232f-4779-ec32-24b9e11d5041"
      },
      "execution_count": null,
      "outputs": [
        {
          "output_type": "execute_result",
          "data": {
            "text/plain": [
              "16.0"
            ]
          },
          "metadata": {},
          "execution_count": 21
        }
      ]
    },
    {
      "cell_type": "code",
      "source": [
        "data=data/16"
      ],
      "metadata": {
        "id": "woMNCbUaPZms"
      },
      "execution_count": null,
      "outputs": []
    },
    {
      "cell_type": "code",
      "source": [
        "data.min()"
      ],
      "metadata": {
        "colab": {
          "base_uri": "https://localhost:8080/"
        },
        "id": "GF2xnBo6PcsF",
        "outputId": "87ef93d9-11be-45ef-d33d-b71ccff31b56"
      },
      "execution_count": null,
      "outputs": [
        {
          "output_type": "execute_result",
          "data": {
            "text/plain": [
              "0.0"
            ]
          },
          "metadata": {},
          "execution_count": 23
        }
      ]
    },
    {
      "cell_type": "code",
      "source": [
        "data[0]"
      ],
      "metadata": {
        "colab": {
          "base_uri": "https://localhost:8080/"
        },
        "id": "PyADemO3PgxD",
        "outputId": "db35e90a-e865-4f4a-8f7f-9f7b33c8d53f"
      },
      "execution_count": null,
      "outputs": [
        {
          "output_type": "execute_result",
          "data": {
            "text/plain": [
              "array([0.    , 0.    , 0.3125, 0.8125, 0.5625, 0.0625, 0.    , 0.    ,\n",
              "       0.    , 0.    , 0.8125, 0.9375, 0.625 , 0.9375, 0.3125, 0.    ,\n",
              "       0.    , 0.1875, 0.9375, 0.125 , 0.    , 0.6875, 0.5   , 0.    ,\n",
              "       0.    , 0.25  , 0.75  , 0.    , 0.    , 0.5   , 0.5   , 0.    ,\n",
              "       0.    , 0.3125, 0.5   , 0.    , 0.    , 0.5625, 0.5   , 0.    ,\n",
              "       0.    , 0.25  , 0.6875, 0.    , 0.0625, 0.75  , 0.4375, 0.    ,\n",
              "       0.    , 0.125 , 0.875 , 0.3125, 0.625 , 0.75  , 0.    , 0.    ,\n",
              "       0.    , 0.    , 0.375 , 0.8125, 0.625 , 0.    , 0.    , 0.    ])"
            ]
          },
          "metadata": {},
          "execution_count": 24
        }
      ]
    },
    {
      "cell_type": "markdown",
      "source": [
        "**TRAIN TEST SPLIT DATA**"
      ],
      "metadata": {
        "id": "vk7PunN0Pk-M"
      }
    },
    {
      "cell_type": "code",
      "source": [
        "from sklearn.model_selection import train_test_split"
      ],
      "metadata": {
        "id": "SwKg3N5cPtCN"
      },
      "execution_count": null,
      "outputs": []
    },
    {
      "cell_type": "code",
      "source": [
        "X_train, X_test, y_train, y_test = train_test_split(data, df.target, test_size=0.3)"
      ],
      "metadata": {
        "id": "IATob5hBP2Q-"
      },
      "execution_count": null,
      "outputs": []
    },
    {
      "cell_type": "code",
      "source": [
        "X_train.shape, X_test. shape, y_train.shape, _test.shape"
      ],
      "metadata": {
        "colab": {
          "base_uri": "https://localhost:8080/"
        },
        "id": "UGhWd9SIQZ7J",
        "outputId": "1b513859-baf5-4703-f76f-7742eedbf4df"
      },
      "execution_count": null,
      "outputs": [
        {
          "output_type": "execute_result",
          "data": {
            "text/plain": [
              "((1257, 64), (540, 64), (1257,), (540,))"
            ]
          },
          "metadata": {},
          "execution_count": 28
        }
      ]
    },
    {
      "cell_type": "markdown",
      "source": [
        "**RANDOM FOREST MODEL**"
      ],
      "metadata": {
        "id": "EFo6w9jbQfYM"
      }
    },
    {
      "cell_type": "code",
      "source": [
        "from sklearn.ensemble import RandomForestClassifier"
      ],
      "metadata": {
        "id": "kwfJjxS4Qpop"
      },
      "execution_count": null,
      "outputs": []
    },
    {
      "cell_type": "code",
      "source": [
        "rf=RandomForestClassifier()"
      ],
      "metadata": {
        "id": "gdoGf1biQrB7"
      },
      "execution_count": null,
      "outputs": []
    },
    {
      "cell_type": "code",
      "source": [
        "rf.fit(X_train,y_train)"
      ],
      "metadata": {
        "colab": {
          "base_uri": "https://localhost:8080/",
          "height": 74
        },
        "id": "cgDetasCQw58",
        "outputId": "d8b48601-b823-4a3a-96ea-4e1af2910ed0"
      },
      "execution_count": null,
      "outputs": [
        {
          "output_type": "execute_result",
          "data": {
            "text/plain": [
              "RandomForestClassifier()"
            ],
            "text/html": [
              "<style>#sk-container-id-1 {color: black;}#sk-container-id-1 pre{padding: 0;}#sk-container-id-1 div.sk-toggleable {background-color: white;}#sk-container-id-1 label.sk-toggleable__label {cursor: pointer;display: block;width: 100%;margin-bottom: 0;padding: 0.3em;box-sizing: border-box;text-align: center;}#sk-container-id-1 label.sk-toggleable__label-arrow:before {content: \"▸\";float: left;margin-right: 0.25em;color: #696969;}#sk-container-id-1 label.sk-toggleable__label-arrow:hover:before {color: black;}#sk-container-id-1 div.sk-estimator:hover label.sk-toggleable__label-arrow:before {color: black;}#sk-container-id-1 div.sk-toggleable__content {max-height: 0;max-width: 0;overflow: hidden;text-align: left;background-color: #f0f8ff;}#sk-container-id-1 div.sk-toggleable__content pre {margin: 0.2em;color: black;border-radius: 0.25em;background-color: #f0f8ff;}#sk-container-id-1 input.sk-toggleable__control:checked~div.sk-toggleable__content {max-height: 200px;max-width: 100%;overflow: auto;}#sk-container-id-1 input.sk-toggleable__control:checked~label.sk-toggleable__label-arrow:before {content: \"▾\";}#sk-container-id-1 div.sk-estimator input.sk-toggleable__control:checked~label.sk-toggleable__label {background-color: #d4ebff;}#sk-container-id-1 div.sk-label input.sk-toggleable__control:checked~label.sk-toggleable__label {background-color: #d4ebff;}#sk-container-id-1 input.sk-hidden--visually {border: 0;clip: rect(1px 1px 1px 1px);clip: rect(1px, 1px, 1px, 1px);height: 1px;margin: -1px;overflow: hidden;padding: 0;position: absolute;width: 1px;}#sk-container-id-1 div.sk-estimator {font-family: monospace;background-color: #f0f8ff;border: 1px dotted black;border-radius: 0.25em;box-sizing: border-box;margin-bottom: 0.5em;}#sk-container-id-1 div.sk-estimator:hover {background-color: #d4ebff;}#sk-container-id-1 div.sk-parallel-item::after {content: \"\";width: 100%;border-bottom: 1px solid gray;flex-grow: 1;}#sk-container-id-1 div.sk-label:hover label.sk-toggleable__label {background-color: #d4ebff;}#sk-container-id-1 div.sk-serial::before {content: \"\";position: absolute;border-left: 1px solid gray;box-sizing: border-box;top: 0;bottom: 0;left: 50%;z-index: 0;}#sk-container-id-1 div.sk-serial {display: flex;flex-direction: column;align-items: center;background-color: white;padding-right: 0.2em;padding-left: 0.2em;position: relative;}#sk-container-id-1 div.sk-item {position: relative;z-index: 1;}#sk-container-id-1 div.sk-parallel {display: flex;align-items: stretch;justify-content: center;background-color: white;position: relative;}#sk-container-id-1 div.sk-item::before, #sk-container-id-1 div.sk-parallel-item::before {content: \"\";position: absolute;border-left: 1px solid gray;box-sizing: border-box;top: 0;bottom: 0;left: 50%;z-index: -1;}#sk-container-id-1 div.sk-parallel-item {display: flex;flex-direction: column;z-index: 1;position: relative;background-color: white;}#sk-container-id-1 div.sk-parallel-item:first-child::after {align-self: flex-end;width: 50%;}#sk-container-id-1 div.sk-parallel-item:last-child::after {align-self: flex-start;width: 50%;}#sk-container-id-1 div.sk-parallel-item:only-child::after {width: 0;}#sk-container-id-1 div.sk-dashed-wrapped {border: 1px dashed gray;margin: 0 0.4em 0.5em 0.4em;box-sizing: border-box;padding-bottom: 0.4em;background-color: white;}#sk-container-id-1 div.sk-label label {font-family: monospace;font-weight: bold;display: inline-block;line-height: 1.2em;}#sk-container-id-1 div.sk-label-container {text-align: center;}#sk-container-id-1 div.sk-container {/* jupyter's `normalize.less` sets `[hidden] { display: none; }` but bootstrap.min.css set `[hidden] { display: none !important; }` so we also need the `!important` here to be able to override the default hidden behavior on the sphinx rendered scikit-learn.org. See: https://github.com/scikit-learn/scikit-learn/issues/21755 */display: inline-block !important;position: relative;}#sk-container-id-1 div.sk-text-repr-fallback {display: none;}</style><div id=\"sk-container-id-1\" class=\"sk-top-container\"><div class=\"sk-text-repr-fallback\"><pre>RandomForestClassifier()</pre><b>In a Jupyter environment, please rerun this cell to show the HTML representation or trust the notebook. <br />On GitHub, the HTML representation is unable to render, please try loading this page with nbviewer.org.</b></div><div class=\"sk-container\" hidden><div class=\"sk-item\"><div class=\"sk-estimator sk-toggleable\"><input class=\"sk-toggleable__control sk-hidden--visually\" id=\"sk-estimator-id-1\" type=\"checkbox\" checked><label for=\"sk-estimator-id-1\" class=\"sk-toggleable__label sk-toggleable__label-arrow\">RandomForestClassifier</label><div class=\"sk-toggleable__content\"><pre>RandomForestClassifier()</pre></div></div></div></div></div>"
            ]
          },
          "metadata": {},
          "execution_count": 31
        }
      ]
    },
    {
      "cell_type": "markdown",
      "source": [
        "**PREDICT TEST DATA**"
      ],
      "metadata": {
        "id": "X2G6LRDvQ7ir"
      }
    },
    {
      "cell_type": "code",
      "source": [
        "y_pred=rf.predict(X_test)"
      ],
      "metadata": {
        "id": "uBJYHt2TRHQv"
      },
      "execution_count": null,
      "outputs": []
    },
    {
      "cell_type": "code",
      "source": [
        "y_pred"
      ],
      "metadata": {
        "colab": {
          "base_uri": "https://localhost:8080/"
        },
        "id": "cgZMGHmuROFV",
        "outputId": "6f62c9ac-5e64-4c49-bcd9-d7c979928ae3"
      },
      "execution_count": null,
      "outputs": [
        {
          "output_type": "execute_result",
          "data": {
            "text/plain": [
              "array([8, 4, 4, 5, 4, 0, 4, 9, 5, 9, 6, 9, 0, 3, 9, 0, 4, 3, 1, 5, 4, 5,\n",
              "       7, 0, 7, 4, 0, 4, 2, 9, 1, 2, 9, 4, 7, 1, 5, 4, 6, 2, 5, 2, 4, 6,\n",
              "       8, 9, 2, 1, 2, 3, 2, 1, 9, 9, 6, 9, 9, 0, 1, 8, 5, 9, 9, 7, 9, 4,\n",
              "       2, 0, 3, 6, 4, 1, 5, 6, 4, 0, 2, 7, 2, 7, 7, 6, 7, 2, 3, 4, 9, 1,\n",
              "       5, 9, 4, 9, 5, 1, 4, 8, 4, 1, 6, 5, 1, 2, 7, 6, 0, 3, 6, 1, 8, 9,\n",
              "       0, 8, 9, 5, 3, 5, 0, 7, 0, 3, 1, 7, 0, 1, 8, 5, 4, 1, 0, 0, 5, 2,\n",
              "       8, 5, 7, 9, 4, 8, 9, 6, 6, 5, 0, 6, 3, 4, 2, 9, 9, 3, 0, 2, 1, 7,\n",
              "       0, 1, 4, 9, 3, 7, 5, 8, 9, 2, 2, 3, 3, 2, 1, 1, 5, 9, 6, 4, 3, 2,\n",
              "       7, 3, 6, 6, 5, 2, 7, 9, 7, 7, 8, 4, 8, 7, 3, 1, 1, 9, 1, 6, 7, 6,\n",
              "       5, 1, 1, 0, 1, 0, 2, 3, 3, 3, 2, 8, 8, 3, 9, 4, 3, 4, 1, 8, 0, 3,\n",
              "       0, 9, 4, 0, 8, 4, 2, 2, 8, 6, 6, 1, 3, 6, 5, 8, 2, 9, 6, 1, 8, 2,\n",
              "       6, 2, 3, 3, 1, 1, 2, 8, 9, 8, 4, 6, 0, 2, 4, 6, 3, 0, 3, 6, 5, 1,\n",
              "       3, 3, 2, 2, 0, 7, 2, 5, 9, 9, 2, 7, 1, 1, 4, 8, 7, 5, 4, 0, 5, 8,\n",
              "       1, 9, 7, 0, 4, 6, 0, 9, 4, 9, 1, 0, 0, 7, 8, 0, 4, 1, 7, 1, 8, 6,\n",
              "       7, 6, 7, 8, 4, 9, 0, 4, 7, 5, 8, 5, 4, 0, 2, 6, 4, 5, 6, 3, 7, 3,\n",
              "       8, 4, 6, 6, 3, 3, 8, 3, 1, 1, 7, 3, 8, 7, 7, 9, 6, 7, 6, 8, 3, 7,\n",
              "       9, 1, 6, 0, 6, 3, 5, 8, 2, 2, 6, 5, 1, 3, 5, 3, 0, 5, 6, 4, 3, 3,\n",
              "       4, 3, 3, 5, 4, 5, 6, 5, 1, 0, 2, 3, 0, 4, 4, 1, 2, 6, 9, 5, 8, 7,\n",
              "       9, 4, 5, 7, 8, 9, 3, 1, 3, 9, 9, 0, 5, 7, 3, 2, 0, 6, 7, 7, 1, 7,\n",
              "       9, 4, 3, 3, 9, 4, 8, 6, 9, 4, 3, 2, 8, 0, 1, 1, 8, 8, 1, 5, 0, 3,\n",
              "       4, 0, 7, 0, 6, 3, 7, 9, 6, 5, 4, 5, 4, 3, 9, 0, 3, 6, 1, 6, 8, 7,\n",
              "       3, 1, 5, 1, 6, 4, 5, 2, 1, 7, 0, 2, 0, 8, 7, 3, 7, 7, 7, 7, 2, 1,\n",
              "       0, 8, 6, 0, 1, 7, 4, 5, 8, 4, 2, 9, 0, 4, 9, 3, 7, 8, 6, 0, 3, 7,\n",
              "       5, 9, 3, 6, 1, 6, 8, 1, 2, 6, 3, 0, 2, 4, 4, 5, 2, 4, 2, 6, 6, 0,\n",
              "       8, 4, 3, 3, 0, 9, 4, 8, 4, 7, 2, 4])"
            ]
          },
          "metadata": {},
          "execution_count": 33
        }
      ]
    },
    {
      "cell_type": "markdown",
      "source": [
        "**MODEL ACCURACY**"
      ],
      "metadata": {
        "id": "pHhWkIQNRWWR"
      }
    },
    {
      "cell_type": "code",
      "source": [
        "from sklearn.metrics import confusion_matrix,classification_report"
      ],
      "metadata": {
        "id": "SMH8725GRbjo"
      },
      "execution_count": null,
      "outputs": []
    },
    {
      "cell_type": "code",
      "source": [
        "confusion_matrix(y_test,y_pred)"
      ],
      "metadata": {
        "colab": {
          "base_uri": "https://localhost:8080/"
        },
        "id": "znfE_nRbRnIw",
        "outputId": "f5d83e45-ad49-4446-9f90-86bdbb2fd8d6"
      },
      "execution_count": null,
      "outputs": [
        {
          "output_type": "execute_result",
          "data": {
            "text/plain": [
              "array([[ 9,  7,  8,  3,  8,  6,  3,  5,  8,  6],\n",
              "       [ 8,  9,  5,  4,  4,  5,  2,  7,  2,  7],\n",
              "       [ 5,  6,  3,  7,  6,  5,  4,  6,  3,  5],\n",
              "       [ 3,  5,  4,  4,  7,  3,  6,  3,  7,  0],\n",
              "       [ 4,  2,  9, 10,  2,  7,  5,  5,  3,  5],\n",
              "       [ 6,  6,  3,  4, 12,  1,  9,  1,  5,  6],\n",
              "       [ 5,  7,  5,  6,  5,  5,  3,  6,  2,  5],\n",
              "       [ 4,  9,  3,  8, 13,  8, 11,  7,  3,  4],\n",
              "       [ 4,  2,  6,  7,  2,  2,  7,  7,  6,  7],\n",
              "       [ 6,  3,  3,  9,  4,  5,  5,  7,  7,  9]])"
            ]
          },
          "metadata": {},
          "execution_count": 38
        }
      ]
    },
    {
      "cell_type": "code",
      "source": [
        "print(classification_report(y_test,y_pred))"
      ],
      "metadata": {
        "colab": {
          "base_uri": "https://localhost:8080/"
        },
        "id": "CBOt9ClSRtWq",
        "outputId": "fcac7048-9e2b-4a57-858f-20e3eb15f00b"
      },
      "execution_count": null,
      "outputs": [
        {
          "output_type": "stream",
          "name": "stdout",
          "text": [
            "              precision    recall  f1-score   support\n",
            "\n",
            "           0       0.17      0.14      0.15        63\n",
            "           1       0.16      0.17      0.17        53\n",
            "           2       0.06      0.06      0.06        50\n",
            "           3       0.06      0.10      0.08        42\n",
            "           4       0.03      0.04      0.03        52\n",
            "           5       0.02      0.02      0.02        53\n",
            "           6       0.05      0.06      0.06        49\n",
            "           7       0.13      0.10      0.11        70\n",
            "           8       0.13      0.12      0.12        50\n",
            "           9       0.17      0.16      0.16        58\n",
            "\n",
            "    accuracy                           0.10       540\n",
            "   macro avg       0.10      0.10      0.10       540\n",
            "weighted avg       0.10      0.10      0.10       540\n",
            "\n"
          ]
        }
      ]
    }
  ]
}